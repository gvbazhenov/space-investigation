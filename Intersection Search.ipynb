{
 "cells": [
  {
   "cell_type": "code",
   "execution_count": null,
   "metadata": {},
   "outputs": [],
   "source": [
    "import orbipy as op, numpy as np, pandas as pd\n",
    "import matplotlib.pyplot as plt, csv\n",
    "\n",
    "model = op.crtbp3_model('Earth-Moon (default)')\n",
    "plot_creator = op.plotter.from_model(model, length_units='Mm')\n",
    "scaler = op.scaler.from_model(model)"
   ]
  },
  {
   "cell_type": "code",
   "execution_count": null,
   "metadata": {},
   "outputs": [],
   "source": [
    "disturbance = 1e-6\n",
    "model.integrator.set_params(max_step=scaler(1, 'h-nd'))"
   ]
  },
  {
   "cell_type": "markdown",
   "metadata": {},
   "source": [
    "# Necessary Methods — Definition"
   ]
  },
  {
   "cell_type": "code",
   "execution_count": null,
   "metadata": {},
   "outputs": [],
   "source": [
    "def determine_state(model, time_sequence, state, mode, disturbance=1e-6, debug=False): \n",
    "    result = np.empty((len(time_sequence), 6))\n",
    "    sign = 1 if mode == 'unstable' else -1\n",
    "    \n",
    "    for index, time in enumerate(time_sequence):\n",
    "        arc_data = model.prop(state, 0., time)\n",
    "        inter_state = arc_data.iloc[-1].values[1: ]\n",
    "        \n",
    "        # += disturbance in case of transition to right, else -= disturbance\n",
    "        inter_state[3] -= disturbance\n",
    "        surface = op.eventX(1 - model.mu, terminal=True, count=1)\n",
    "        \n",
    "        detector = op.event_detector(model, [surface])\n",
    "        trajectory_data, event_data = detector.prop(inter_state, 0., sign * 10. * np.pi, last_state='last')\n",
    "\n",
    "        result[index] = event_data.iloc[-1].values[4: ] \n",
    "    return result"
   ]
  },
  {
   "cell_type": "code",
   "execution_count": null,
   "metadata": {},
   "outputs": [],
   "source": [
    "def check_segment_intersection(a_from, a_to, b_from, b_to):\n",
    "    p = a_from; r = a_to - a_from\n",
    "    q = b_from; u = b_to - b_from\n",
    "    \n",
    "    rxu = np.cross(r, u)\n",
    "    qpr = np.cross(q - p, r)\n",
    "    \n",
    "    if rxu == 0: # parallel\n",
    "        return False\n",
    "    \n",
    "    t = np.cross(q - p, u) / rxu\n",
    "    l = qpr / rxu\n",
    "    \n",
    "    if 0. <= t <= 1. and 0. <= l <= 1.: # intersecting\n",
    "        return True\n",
    "    else: # not intersecting\n",
    "        return False"
   ]
  },
  {
   "cell_type": "code",
   "execution_count": null,
   "metadata": {},
   "outputs": [],
   "source": [
    "def precise_intersection_search(unstable_parameters, stable_parameters, epsilon=1e-8, number=40, verbose=False):\n",
    "    '''\n",
    "    unstable_parameters: tuple of unstable state and period\n",
    "    stable_parameters: tuple of stable state and period\n",
    "    \n",
    "    return: unstable time parameters, stable time parameters and velocity corrections\n",
    "    '''\n",
    "    \n",
    "    unstable_state, unstable_period = unstable_parameters\n",
    "    stable_state, stable_period = stable_parameters\n",
    "    \n",
    "    unstable_times, stable_times = [(0., unstable_period)], [(0., stable_period)]\n",
    "    velocity_corrections = []\n",
    "    tolerance = 1.\n",
    "    intersection_number = 1\n",
    "    \n",
    "    while tolerance > epsilon:\n",
    "        \n",
    "        # Enter and out time parameters are going to be updated (precised)\n",
    "        enter_updates, out_updates, velocity_updates = [], [], []\n",
    "        current_tolerance = 0.\n",
    "        \n",
    "        for pair_index in range(intersection_number):\n",
    "            \n",
    "            # Unstable time interval partition to 'number' parts and corresponding positions calculation\n",
    "            unstable_left, unstable_right = unstable_times[pair_index]\n",
    "            unstable_time_sequence = np.linspace(unstable_left, unstable_right, number)\n",
    "            \n",
    "            enter_state = determine_state(model, unstable_time_sequence, unstable_state, 'unstable')\n",
    "            enter_position, enter_velocities = enter_state[:, 1: 3], enter_state[:, 3: ]\n",
    "            \n",
    "            # Stable time interval partition to 'number' parts and corresponding positions calculation\n",
    "            stable_left, stable_right = stable_times[pair_index]\n",
    "            stable_time_sequence = np.linspace(stable_left, stable_right, number)\n",
    "\n",
    "            out_state = determine_state(model, stable_time_sequence, stable_state, 'stable')\n",
    "            out_position, out_velocities = out_state[:, 1: 3], out_state[:, 3: ]\n",
    "\n",
    "            # Time parts (thereby positions) enumeration\n",
    "            for enter_index in range(len(enter_position) - 1):\n",
    "                for out_index in range(len(out_position) - 1):\n",
    "\n",
    "                    # Consequent positions are percieved as segments\n",
    "                    enter_left, enter_right = enter_position[enter_index], enter_position[enter_index + 1]\n",
    "                    out_left, out_right = out_position[out_index], out_position[out_index + 1]\n",
    "\n",
    "                    # Check intersection, update time parameters and current tolerance\n",
    "                    if check_segment_intersection(enter_left, enter_right, out_left, out_right):\n",
    "\n",
    "                        enter_updates.append((unstable_time_sequence[enter_index], \n",
    "                                              unstable_time_sequence[enter_index + 1]))\n",
    "                        out_updates.append((stable_time_sequence[out_index], \n",
    "                                            stable_time_sequence[out_index + 1]))\n",
    "\n",
    "                        current_tolerance = max(np.linalg.norm(enter_right - enter_left), current_tolerance)\n",
    "                        velocity_updates.append(out_velocities[out_index + 1] - enter_velocities[enter_index + 1])\n",
    "\n",
    "        # Update result with precised time parameters and velocity corrections\n",
    "        unstable_times, stable_times = enter_updates, out_updates\n",
    "        velocity_corrections = velocity_updates\n",
    "        intersection_number = len(unstable_times)\n",
    "        \n",
    "        # Change current tolerance\n",
    "        tolerance = current_tolerance\n",
    "        \n",
    "        # Two parts for time interval — sufficient\n",
    "        number = 3\n",
    "        if verbose:\n",
    "            print('Tolerance:', tolerance, end='\\n')\n",
    "            \n",
    "    return [pair[-1] for pair in unstable_times], [pair[-1] for pair in stable_times], velocity_corrections"
   ]
  },
  {
   "cell_type": "markdown",
   "metadata": {},
   "source": [
    "# Data Preparation"
   ]
  },
  {
   "cell_type": "code",
   "execution_count": null,
   "metadata": {},
   "outputs": [],
   "source": [
    "path_area_L1, path_area_L2 = '', ''\n",
    "area_L1, area_L2 = pd.read_csv(path_area_L1), pd.read_csv(path_area_L2)"
   ]
  },
  {
   "cell_type": "code",
   "execution_count": null,
   "metadata": {},
   "outputs": [],
   "source": [
    "state_number = 0\n",
    "unstable_state = area_L2.iloc[state_number].values\n",
    "\n",
    "stable_period = unstable_period = 1.1 * np.pi\n",
    "boundaries = (0, len(area_L1.index))"
   ]
  },
  {
   "cell_type": "markdown",
   "metadata": {},
   "source": [
    "# Intersection Search"
   ]
  },
  {
   "cell_type": "code",
   "execution_count": null,
   "metadata": {},
   "outputs": [],
   "source": [
    "report_name = 'Report.csv'"
   ]
  },
  {
   "cell_type": "code",
   "execution_count": null,
   "metadata": {},
   "outputs": [],
   "source": [
    "verbose = True\n",
    "transform = lambda correction: scaler(np.linalg.norm(correction), 'nd/nd-m/s')\n",
    "\n",
    "with open(report_name, 'a+') as report:\n",
    "    reporter = csv.writer(report, delimiter=',', lineterminator='\\n')\n",
    "    \n",
    "    for index in range(*boundaries):\n",
    "        if verbose:\n",
    "            print(index)\n",
    "\n",
    "        # Set current stable state\n",
    "        stable_state = area_L1.iloc[index].values\n",
    "\n",
    "        # Investigate intersections\n",
    "        unstable_parameters = (unstable_state, unstable_period)\n",
    "        stable_parameters = (stable_state, stable_period)\n",
    "        result = precise_intersection_search(unstable_parameters, stable_parameters, verbose=True)\n",
    "\n",
    "        # Return velocity norms, search the best\n",
    "        unstable_times, stable_times, velocity_corrections = result\n",
    "        velocity_norms = list(map(transform, velocity_corrections))\n",
    "        \n",
    "        if not len(velocity_norms):\n",
    "            print('Intersection not found...')\n",
    "            continue\n",
    "        \n",
    "        if verbose:\n",
    "            print('Intersection found!')\n",
    "        \n",
    "        best = np.argmin(velocity_norms)\n",
    "        data = [*unstable_state, unstable_times[best], *stable_state, stable_times[best], *velocity_corrections[best]]\n",
    "        \n",
    "        reporter.writerow(data)\n",
    "        if verbose:\n",
    "            print('Data saved!')"
   ]
  },
  {
   "cell_type": "code",
   "execution_count": null,
   "metadata": {},
   "outputs": [],
   "source": []
  }
 ],
 "metadata": {
  "kernelspec": {
   "display_name": "Python 3",
   "language": "python",
   "name": "python3"
  },
  "language_info": {
   "codemirror_mode": {
    "name": "ipython",
    "version": 3
   },
   "file_extension": ".py",
   "mimetype": "text/x-python",
   "name": "python",
   "nbconvert_exporter": "python",
   "pygments_lexer": "ipython3",
   "version": "3.7.4"
  }
 },
 "nbformat": 4,
 "nbformat_minor": 4
}
