{
 "cells": [
  {
   "cell_type": "code",
   "execution_count": null,
   "metadata": {},
   "outputs": [],
   "source": [
    "import orbipy as op, numpy as np, pandas as pd\n",
    "import matplotlib.pyplot as plt\n",
    "\n",
    "model = op.crtbp3_model('Earth-Moon (default)')\n",
    "plot_creator = op.plotter.from_model(model, length_units='Mm')\n",
    "scaler = op.scaler.from_model(model)"
   ]
  },
  {
   "cell_type": "code",
   "execution_count": null,
   "metadata": {},
   "outputs": [],
   "source": [
    "disturbance = 1e-6\n",
    "model.integrator.set_params(max_step=scaler(1, 'h-nd'))"
   ]
  },
  {
   "cell_type": "code",
   "execution_count": null,
   "metadata": {
    "scrolled": true
   },
   "outputs": [],
   "source": [
    "path_report = ''\n",
    "data = pd.read_csv(path_report, dtype='float64', low_memory=False)"
   ]
  },
  {
   "cell_type": "code",
   "execution_count": null,
   "metadata": {},
   "outputs": [],
   "source": [
    "data.info()"
   ]
  },
  {
   "cell_type": "code",
   "execution_count": null,
   "metadata": {},
   "outputs": [],
   "source": [
    "data['norm'] = np.linalg.norm(data[['vxc', 'vyc', 'vzc']], axis=1)\n",
    "optimal = data.sort_values(by=['norm']).iloc[0]"
   ]
  },
  {
   "cell_type": "code",
   "execution_count": null,
   "metadata": {},
   "outputs": [],
   "source": [
    "print('Optimal velocity correction:', scaler(optimal.values[-1], 'nd/nd-m/s'), 'm/s')"
   ]
  },
  {
   "cell_type": "code",
   "execution_count": null,
   "metadata": {},
   "outputs": [],
   "source": [
    "top = data[data['norm'] < scaler(20., 'm/s-nd/nd')]\n",
    "len(top.index)"
   ]
  },
  {
   "cell_type": "code",
   "execution_count": null,
   "metadata": {},
   "outputs": [],
   "source": [
    "unstable_state, unstable_time, stable_state, stable_time, correction = \\\n",
    "    optimal[: 6], optimal[6], optimal[7: 13], optimal[13], optimal[14: -1]"
   ]
  },
  {
   "cell_type": "code",
   "execution_count": null,
   "metadata": {},
   "outputs": [],
   "source": [
    "arc_data = model.prop(stable_state, 0., stable_time)\n",
    "check_state = arc_data.iloc[-1].values[1: ]\n",
    "\n",
    "check_state[3] -= disturbance\n",
    "detector = op.event_detector(model, [op.eventX(1 - model.mu, terminal=True, count=1)])\n",
    "constrained_data, event_data = detector.prop(check_state, 0., -6 * np.pi, last_state='last')\n",
    "\n",
    "plot_creator.plot_proj(constrained_data, projections=('x-y',), centers={'x': 1 - model.mu}, linewidth=0.7);"
   ]
  },
  {
   "cell_type": "code",
   "execution_count": null,
   "metadata": {},
   "outputs": [],
   "source": [
    "unconstrained_time = abs(constrained_data.iloc[-1].values[0])\n",
    "tolerance_updated_state = constrained_data.iloc[-1].values[1: ]"
   ]
  },
  {
   "cell_type": "code",
   "execution_count": null,
   "metadata": {},
   "outputs": [],
   "source": [
    "complete_time = 0\n",
    "\n",
    "arc_data = model.prop(unstable_state, 0., unstable_time)\n",
    "inter_state = arc_data.iloc[-1].values[1: ]\n",
    "complete_time += unstable_time\n",
    "\n",
    "inter_state[3] -= disturbance\n",
    "detector = op.event_detector(model, [op.eventX(1 - model.mu, terminal=True)])\n",
    "constrained_data, event_data = detector.prop(inter_state, unstable_time, 6 * np.pi, last_state='last')\n",
    "complete_time += event_data.iloc[-1].values[3]\n",
    "\n",
    "until_surface_data = pd.concat([arc_data, constrained_data], ignore_index=True)\n",
    "unconstrained_data = model.prop(tolerance_updated_state, 0., unconstrained_time)\n",
    "complete_time += unconstrained_time\n",
    "\n",
    "after_surface_data = pd.concat([until_surface_data, unconstrained_data], ignore_index=True)"
   ]
  },
  {
   "cell_type": "code",
   "execution_count": null,
   "metadata": {},
   "outputs": [],
   "source": [
    "axes = plot_creator.plot_proj(after_surface_data, projections=('x-y',), centers={'x': 1 - model.mu}, \n",
    "                              fsize=(12, 8), linewidth=0.7);\n",
    "plot_creator.plot_proj(projections=('x-y',), plottables=[plot_creator.L1, plot_creator.m, plot_creator.L2], \n",
    "                       centers={'x': 1 - model.mu}, colors='k', marker='o', ax=axes);"
   ]
  },
  {
   "cell_type": "code",
   "execution_count": null,
   "metadata": {},
   "outputs": [],
   "source": [
    "path_continue_transit = ''\n",
    "transit_data = pd.read_csv(path_continue_transit)\n",
    "\n",
    "transit_data['t'] += complete_time\n",
    "transit_data = transit_data.reindex(index=transit_data.index[: : -1]).reset_index(drop=True)\n",
    "\n",
    "complete_data = pd.concat([after_surface_data, transit_data], ignore_index=True)"
   ]
  },
  {
   "cell_type": "code",
   "execution_count": null,
   "metadata": {},
   "outputs": [],
   "source": [
    "axes = plot_creator.plot_proj(complete_data, projections=('x-y',), centers={'x': 1 - model.mu}, \n",
    "                              fsize=(12, 8), linewidth=0.7);\n",
    "plot_creator.plot_proj(projections=('x-y',), plottables=[plot_creator.L1, plot_creator.m, plot_creator.L2], \n",
    "                       centers={'x': 1 - model.mu}, colors='k', marker='o', ax=axes);\n",
    "plt.savefig('transit.png')"
   ]
  },
  {
   "cell_type": "code",
   "execution_count": null,
   "metadata": {},
   "outputs": [],
   "source": []
  }
 ],
 "metadata": {
  "kernelspec": {
   "display_name": "Python 3",
   "language": "python",
   "name": "python3"
  },
  "language_info": {
   "codemirror_mode": {
    "name": "ipython",
    "version": 3
   },
   "file_extension": ".py",
   "mimetype": "text/x-python",
   "name": "python",
   "nbconvert_exporter": "python",
   "pygments_lexer": "ipython3",
   "version": "3.7.4"
  }
 },
 "nbformat": 4,
 "nbformat_minor": 2
}
